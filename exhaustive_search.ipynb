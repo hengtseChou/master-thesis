{
 "cells": [
  {
   "cell_type": "code",
   "execution_count": 1,
   "metadata": {},
   "outputs": [
    {
     "data": {
      "text/plain": [
       "40"
      ]
     },
     "execution_count": 1,
     "metadata": {},
     "output_type": "execute_result"
    }
   ],
   "source": [
    "# (a, b, c, d)\n",
    "effects = [\n",
    "    (1, 0, 0, 0), # main effect 0:4\n",
    "    (0, 1, 0, 0), \n",
    "    (0, 0, 1, 0), \n",
    "    (0, 0, 0, 1),\n",
    "    (1, 1, 0, 0), # two-factor interaction 4:16\n",
    "    (1, 2, 0, 0),\n",
    "    (1, 0, 1, 0),\n",
    "    (1, 0, 2, 0),\n",
    "    (1, 0, 0, 1),\n",
    "    (1, 0, 0, 2),\n",
    "    (0, 1, 1, 0),\n",
    "    (0, 1, 2, 0),\n",
    "    (0, 1, 0, 1), \n",
    "    (0, 1, 0, 2),\n",
    "    (0, 0, 1, 1),\n",
    "    (0, 0, 1, 2), \n",
    "    (1, 1, 1, 0), # three-factor interaction 16: 32\n",
    "    (1, 1, 2 ,0),\n",
    "    (1, 2, 1, 0),\n",
    "    (1, 2, 2, 0),\n",
    "    (1, 1, 0, 1),\n",
    "    (1, 1, 0, 2),\n",
    "    (1, 2, 0, 1),\n",
    "    (1, 2, 0, 2),\n",
    "    (1, 0, 1, 1),\n",
    "    (1, 0, 1, 2),\n",
    "    (1, 0, 2, 1),\n",
    "    (1, 0, 2, 2),\n",
    "    (0, 1, 1, 1),\n",
    "    (0, 1, 1, 2),\n",
    "    (0, 1, 2, 1),\n",
    "    (0, 1, 2, 2),\n",
    "    (1, 1, 1, 1), # four-factor interaction 32:40\n",
    "    (1, 1, 1, 2),\n",
    "    (1, 1, 2, 1),\n",
    "    (1, 1, 2, 2),\n",
    "    (1, 2, 1, 1),\n",
    "    (1, 2, 1, 2),\n",
    "    (1, 2, 2, 1),\n",
    "    (1, 2, 2, 2)  \n",
    "]"
   ]
  },
  {
   "cell_type": "code",
   "execution_count": 2,
   "metadata": {},
   "outputs": [],
   "source": [
    "import numpy as np\n",
    "effects = [np.array(effect) for effect in effects]\n",
    "\n",
    "main_effect = effects[0:4]\n",
    "two_fi = effects[4:16]\n",
    "three_fi = effects[16:32]\n",
    "four_fi = effects[32:40]"
   ]
  },
  {
   "cell_type": "code",
   "execution_count": 3,
   "metadata": {},
   "outputs": [],
   "source": [
    "import numpy as np\n",
    "\n",
    "def offseting_effect(effect: np.ndarray) -> np.ndarray:\n",
    "    # Find the index of the first non-zero element\n",
    "    non_zero_indices = np.nonzero(effect)[0]\n",
    "    if len(non_zero_indices) > 0:\n",
    "        first_non_zero_index = non_zero_indices[0]\n",
    "        first_non_zero_value = effect[first_non_zero_index]\n",
    "        \n",
    "        # If the first non-zero digit is not 1, multiply the array by 2 and mod 3\n",
    "        if first_non_zero_value != 1:\n",
    "            return (effect * 2) % 3\n",
    "    \n",
    "    # Return the original array if the first non-zero digit is 1 or the array is all zeros\n",
    "    return effect\n",
    "\n",
    "\n",
    "def generate_design_C(design_A: list[np.ndarray], design_B: list[np.ndarray]) -> list[np.ndarray]:\n",
    "    if len(design_A) != len(design_B):\n",
    "        raise ValueError(\"design_A and design_B must have the same length.\")\n",
    "\n",
    "    design_C = []\n",
    "    for element_A, element_B in zip(design_A, design_B):\n",
    "        # Perform the element-wise operation\n",
    "        element_C = (element_A + element_B) % 3\n",
    "        # Apply the offseting_effect_np function to C\n",
    "        D_transformed = element_C\n",
    "        design_C.append(D_transformed)\n",
    "        \n",
    "    return design_C\n",
    "\n",
    "def generate_design_D(design_A: list[np.ndarray], design_B: list[np.ndarray]) -> list[np.ndarray]:\n",
    "    if len(design_A) != len(design_B):\n",
    "        raise ValueError(\"design_A and design_B must have the same length.\")\n",
    "\n",
    "    design_D = []\n",
    "    for element_A, element_B in zip(design_A, design_B):\n",
    "        # Perform the element-wise operation\n",
    "        element_D = (element_A + element_B * 2) % 3\n",
    "        # Apply the offseting_effect_np function to D\n",
    "        D_transformed = offseting_effect(element_D)\n",
    "        design_D.append(D_transformed)\n",
    "        \n",
    "    return design_D"
   ]
  },
  {
   "cell_type": "code",
   "execution_count": 5,
   "metadata": {},
   "outputs": [
    {
     "data": {
      "application/vnd.jupyter.widget-view+json": {
       "model_id": "7d1c5775801d4eafa50b9ba33b923c6d",
       "version_major": 2,
       "version_minor": 0
      },
      "text/plain": [
       "  0%|          | 0/30045015 [00:00<?, ?it/s]"
      ]
     },
     "metadata": {},
     "output_type": "display_data"
    }
   ],
   "source": [
    "from itertools import combinations\n",
    "from tqdm.notebook import tqdm\n",
    "\n",
    "\n",
    "def filter_effects(effects, design_A):\n",
    "    \"\"\"Filter out arrays in design_A from effects.\"\"\"\n",
    "    remaining_effects = []\n",
    "    for effect in effects:\n",
    "        if not any(np.array_equal(effect, a) for a in design_A):\n",
    "            remaining_effects.append(effect)\n",
    "    return remaining_effects\n",
    "\n",
    "def has_repeated_array(*lists_of_arrays):\n",
    "    \"\"\"Check if there are any repeated arrays across multiple lists of arrays.\"\"\"\n",
    "    checked_arrays = []\n",
    "    for list_of_arrays in lists_of_arrays:\n",
    "        for arr in list_of_arrays:\n",
    "            # Check if arr is equal to any array we've already checked\n",
    "            if any(np.array_equal(arr, checked_arr) for checked_arr in checked_arrays):\n",
    "                return True\n",
    "            checked_arrays.append(arr)\n",
    "    return False\n",
    "\n",
    "\n",
    "for selected_four_fi in combinations(four_fi, 6):\n",
    "    \n",
    "    pbar = tqdm(total=30045015)\n",
    "    \n",
    "    design_A = main_effect + list(selected_four_fi)\n",
    "    remaining_effects = filter_effects(effects, design_A)\n",
    "    \n",
    "    # Then select 10 designs from the remaining for group B\n",
    "    for design_B in combinations(remaining_effects, 10):\n",
    "        \n",
    "        design_B = list(design_B)        \n",
    "        design_C = generate_design_C(design_A, design_B)\n",
    "        design_D = generate_design_D(design_A, design_B)\n",
    "\n",
    "        if not has_repeated_array(design_A, design_B, design_C, design_D):\n",
    "            print(\"good!\")\n",
    "        pbar.update(1)\n",
    "    \n"
   ]
  }
 ],
 "metadata": {
  "kernelspec": {
   "display_name": "Python 3",
   "language": "python",
   "name": "python3"
  },
  "language_info": {
   "codemirror_mode": {
    "name": "ipython",
    "version": 3
   },
   "file_extension": ".py",
   "mimetype": "text/x-python",
   "name": "python",
   "nbconvert_exporter": "python",
   "pygments_lexer": "ipython3",
   "version": "3.11.8"
  }
 },
 "nbformat": 4,
 "nbformat_minor": 2
}
