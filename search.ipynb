{
 "cells": [
  {
   "cell_type": "code",
   "execution_count": 2,
   "metadata": {},
   "outputs": [],
   "source": [
    "from three_lvl_designs.designs import full_factorial\n",
    "from three_lvl_designs.utils import interaction_component "
   ]
  },
  {
   "cell_type": "code",
   "execution_count": 3,
   "metadata": {},
   "outputs": [
    {
     "name": "stdout",
     "output_type": "stream",
     "text": [
      "Total combinations: 0\n"
     ]
    }
   ],
   "source": [
    "ff_3factors = full_factorial(k=3)\n",
    "effects = ff_3factors.effects\n",
    "possible_first_groups = []\n",
    "\n",
    "for a in effects:\n",
    "    remaining_effects_no_a = [eff for eff in effects if eff != a]\n",
    "    \n",
    "    for b in remaining_effects_no_a:\n",
    "        remaining_effects_no_a_and_b = [eff for eff in remaining_effects_no_a if eff != b]\n",
    "        \n",
    "        ab = interaction_component(a, b)\n",
    "        ab_squared = interaction_component(a, b, 2)\n",
    "        \n",
    "        if ab in remaining_effects_no_a_and_b and ab_squared in remaining_effects_no_a_and_b:\n",
    "            possible_first_groups.append([a, b, ab, ab_squared])\n",
    "\n",
    "count = 0\n",
    "\n",
    "for first_group in possible_first_groups:\n",
    "    remaining_effects = [effect for effect in effects if effect not in first_group]\n",
    "    \n",
    "    for a in remaining_effects:\n",
    "        remaining_effects_no_a = [eff for eff in remaining_effects if eff != a]\n",
    "        \n",
    "        for b in remaining_effects_no_a:\n",
    "            remaining_effects_no_a_and_b = [eff for eff in remaining_effects_no_a if eff != b]\n",
    "            \n",
    "            ab = interaction_component(a, b)\n",
    "            ab_squared = interaction_component(a, b, 2)\n",
    "            \n",
    "            if ab in remaining_effects_no_a_and_b and ab_squared in remaining_effects_no_a_and_b:\n",
    "                print(\"First Group:\", first_group)\n",
    "                print(\"'a':\", a)\n",
    "                print(\"'b':\", b)\n",
    "                count += 1\n",
    "                print(\"----------\")\n",
    "\n",
    "# Print the total count of combinations found\n",
    "print(\"Total combinations:\", count)\n"
   ]
  }
 ],
 "metadata": {
  "kernelspec": {
   "display_name": ".venv",
   "language": "python",
   "name": "python3"
  },
  "language_info": {
   "codemirror_mode": {
    "name": "ipython",
    "version": 3
   },
   "file_extension": ".py",
   "mimetype": "text/x-python",
   "name": "python",
   "nbconvert_exporter": "python",
   "pygments_lexer": "ipython3",
   "version": "3.11.8"
  }
 },
 "nbformat": 4,
 "nbformat_minor": 2
}
